{
  "nbformat": 4,
  "nbformat_minor": 0,
  "metadata": {
    "colab": {
      "provenance": [],
      "authorship_tag": "ABX9TyMm/spBnowrfrKS65mj85TR",
      "include_colab_link": true
    },
    "kernelspec": {
      "name": "python3",
      "display_name": "Python 3"
    },
    "language_info": {
      "name": "python"
    }
  },
  "cells": [
    {
      "cell_type": "markdown",
      "metadata": {
        "id": "view-in-github",
        "colab_type": "text"
      },
      "source": [
        "<a href=\"https://colab.research.google.com/github/VictorSouza112/Imersao_IA_Projeto/blob/main/Imers%C3%A3o_IA_Projeto.ipynb\" target=\"_parent\"><img src=\"https://colab.research.google.com/assets/colab-badge.svg\" alt=\"Open In Colab\"/></a>"
      ]
    },
    {
      "cell_type": "markdown",
      "source": [
        "# Analisador de Semelhança de Documentos com Embeddings"
      ],
      "metadata": {
        "id": "mB_PEMbfT95r"
      }
    },
    {
      "cell_type": "markdown",
      "source": [
        "## **INTRODUÇÃO**\n",
        "Essa aplicação demonstra o poder dos embeddings na análise de similaridade entre textos. Ela recebe como entrada um conjunto de documentos e uma consulta, e então utiliza embeddings gerados pelo modelo Gemini para encontrar o documento mais semelhante à consulta. Um gráfico interativo permite visualizar a relação entre os embeddings no espaço vetorial."
      ],
      "metadata": {
        "id": "SU-dStMGTsDg"
      }
    },
    {
      "cell_type": "markdown",
      "source": [
        "## **AJUDA**\n",
        "Caso você sinta dificuldade em entender algum dos conteudos da aplicação recomendo olhar o documento que criei sintetizando os tópicos de Engenharia de Prompt e Manipulação de IAs:\n",
        "\n",
        "[Engenharia de Prompt e Manipulação de IAs](https://docs.google.com/document/d/15er_ycXyRA8rs-qy3Fhtxrxtb8OMkvI8cAtOaiE28bo/edit?usp=sharing)"
      ],
      "metadata": {
        "id": "EACMEUBPgFy8"
      }
    },
    {
      "cell_type": "markdown",
      "source": [
        "## **⚙️ Seção 1: Instalação de Bibliotecas e Configurações Essenciais**\n",
        "\n",
        "Essa seção inicial prepara o ambiente para a execução da aplicação, instalando as bibliotecas necessárias e definindo configurações importantes.\n",
        "\n",
        "**Bibliotecas:**\n",
        "1.   `google-generativeai:` Fornece acesso à API do Google Generative AI, permitindo utilizar o modelo Gemini para gerar embeddings.\n",
        "2.   `sklearn`: Oferece ferramentas para Machine Learning, incluindo o algoritmo PCA para redução de dimensionalidade.\n",
        "3.   `matplotlib`: Biblioteca para criação de gráficos e visualizações, utilizada para plotar os embeddings.\n",
        "4.   `numpy`: Ferramenta fundamental para computação numérica em Python, utilizada para manipular vetores e matrizes.\n",
        "5.   `pandas`: Biblioteca para análise e manipulação de dados, utilizada para criar e manipular o DataFrame que armazena os documentos.\n",
        "6.   `textwrap`: Será usada para exibir o resultado final de forma mais legível.\n",
        "\n",
        "**Configurações:**\n",
        "1.   `GOOGLE_API_KEY`: Armazena a sua chave de API do Google Generative AI, essencial para utilizar os serviços da plataforma.\n",
        "2.   `config_geral`: Define parâmetros para a geração de texto com o modelo Gemini, como temperatura e número de candidatos.\n",
        "3.   `model`: Especifica o modelo de embedding a ser utilizado, no caso, \"models/embedding-001\".\n",
        "\n",
        "Ao instalar as bibliotecas e definir as configurações corretas, essa seção garante que a aplicação tenha todas as ferramentas e recursos necessários para funcionar corretamente.\n",
        "\n",
        "### **OBSERVAÇÃO:**\n",
        "Pode ser que apareça uma mensagem de erro, todavia basta ignorar porque a aplicação funcionará normalmente."
      ],
      "metadata": {
        "id": "Z0_DR5ziR5GB"
      }
    },
    {
      "cell_type": "code",
      "source": [
        "# Instalar o Python SDK e bibliotecas necessárias\n",
        "!pip install -U -q google-generativeai sklearn matplotlib\n",
        "\n",
        "# Importa as bibliotecas\n",
        "import numpy as np\n",
        "import pandas as pd\n",
        "import google.generativeai as genai\n",
        "from sklearn.decomposition import PCA\n",
        "import matplotlib.pyplot as plt\n",
        "import textwrap\n",
        "\n",
        "# Obtém a API Key\n",
        "from google.colab import userdata\n",
        "GOOGLE_API_KEY = userdata.get('CHAVE_SECRETA')\n",
        "\n",
        "# Configura a biblioteca google.generativeai\n",
        "genai.configure(api_key=GOOGLE_API_KEY)\n",
        "\n",
        "# Define a configuração para a geração de texto\n",
        "config_geral = {\n",
        "  \"temperature\": 0,\n",
        "  \"candidate_count\": 1\n",
        "}\n",
        "\n",
        "# Define o modelo de embedding\n",
        "model = \"models/embedding-001\""
      ],
      "metadata": {
        "id": "ax_hQuJ3R5Wh",
        "colab": {
          "base_uri": "https://localhost:8080/"
        },
        "outputId": "a7397190-cc25-463b-8fed-cad09ba0fb69"
      },
      "execution_count": 1,
      "outputs": [
        {
          "output_type": "stream",
          "name": "stdout",
          "text": [
            "  \u001b[1;31merror\u001b[0m: \u001b[1msubprocess-exited-with-error\u001b[0m\n",
            "  \n",
            "  \u001b[31m×\u001b[0m \u001b[32mpython setup.py egg_info\u001b[0m did not run successfully.\n",
            "  \u001b[31m│\u001b[0m exit code: \u001b[1;36m1\u001b[0m\n",
            "  \u001b[31m╰─>\u001b[0m See above for output.\n",
            "  \n",
            "  \u001b[1;35mnote\u001b[0m: This error originates from a subprocess, and is likely not a problem with pip.\n",
            "  Preparing metadata (setup.py) ... \u001b[?25l\u001b[?25herror\n",
            "\u001b[1;31merror\u001b[0m: \u001b[1mmetadata-generation-failed\u001b[0m\n",
            "\n",
            "\u001b[31m×\u001b[0m Encountered error while generating package metadata.\n",
            "\u001b[31m╰─>\u001b[0m See above for output.\n",
            "\n",
            "\u001b[1;35mnote\u001b[0m: This is an issue with the package mentioned above, not pip.\n",
            "\u001b[1;36mhint\u001b[0m: See above for details.\n"
          ]
        }
      ]
    },
    {
      "cell_type": "markdown",
      "source": [
        "## **💻 Seção 2: Funções Auxiliares para Análise de Embeddings:**\n",
        "Essa seção define três funções auxiliares que serão utilizadas na aplicação:\n",
        "\n",
        "1.   `embed_fn`: Responsável por gerar os embeddings dos documentos utilizando o modelo Gemini. Recebe como entrada o título e o conteúdo do documento e retorna o vetor de embedding.\n",
        "2.   `gerar_e_buscar_consulta`: Realiza a busca pelo documento mais semelhante à consulta. Recebe a consulta, a base de dados (DataFrame) e o modelo de embedding como entrada. Calcula o produto escalar entre o embedding da consulta e os embeddings de cada documento, retornando o conteúdo do documento mais similar, o embedding da consulta e o índice do documento correspondente.\n",
        "3.   `minimize_embedding`: Reduz o tamanho do embedding para exibição no DataFrame. Trunca o vetor de embedding, mostrando apenas os primeiros 50 caracteres seguidos de \"...\".\n",
        "\n",
        "Essas funções encapsulam tarefas importantes da aplicação, tornando o código mais organizado, legível e modular.\n"
      ],
      "metadata": {
        "id": "NoWhBgsGR5di"
      }
    },
    {
      "cell_type": "code",
      "source": [
        "# Função para gerar embeddings\n",
        "def embed_fn(title, text):\n",
        "  return genai.embed_content(model=model,\n",
        "                                 content=text,\n",
        "                                 title=title,\n",
        "                                 task_type=\"RETRIEVAL_DOCUMENT\")[\"embedding\"]\n",
        "\n",
        "# Função para busca de documentos\n",
        "def gerar_e_buscar_consulta(consulta, base, model):\n",
        "  embedding_da_consulta = genai.embed_content(model=model,\n",
        "                                 content=consulta,\n",
        "                                 task_type=\"RETRIEVAL_QUERY\")[\"embedding\"]\n",
        "\n",
        "  # Converta a coluna \"Embeddings\" para uma lista de NumPy arrays\n",
        "  embeddings = df[\"Embeddings\"].apply(np.array).tolist()\n",
        "\n",
        "  produtos_escalares = np.dot(embeddings, embedding_da_consulta)\n",
        "\n",
        "  indice = np.argmax(produtos_escalares)\n",
        "  return df.iloc[indice][\"Conteudo\"], embedding_da_consulta, indice\n",
        "\n",
        "# Função para minimizar o embedding para exibição\n",
        "def minimize_embedding(embedding):\n",
        "  return str(embedding)[:50] + \"...\""
      ],
      "metadata": {
        "id": "cyJ2OV-5R5ki"
      },
      "execution_count": 2,
      "outputs": []
    },
    {
      "cell_type": "markdown",
      "source": [
        "## **📁 Seção 3: Coleta de Dados: Entrada dos Documentos**\n",
        "\n",
        "Esta seção é responsável por obter as informações essenciais do usuário: os documentos que serão analisados pela aplicação.\n",
        "\n",
        "**Passo a passo:**\n",
        "1.   **Número de documentos:** O usuário informa quantos documentos deseja inserir, o que define o tamanho da base de dados.\n",
        "2.   **Criação da lista:** Uma lista vazia chamada `documents` é criada para armazenar os dados dos documentos.\n",
        "3.   **Loop de entrada:** Um loop percorre a quantidade de documentos especificada pelo usuário. Em cada iteração:\n",
        "*   Solicita ao usuário o título do documento.\n",
        "*   Solicita ao usuário o conteúdo do documento.\n",
        "*   Armazena o título e o conteúdo em um dicionário.\n",
        "*   Adiciona o dicionário à lista `documents`.\n",
        "\n",
        "Ao final dessa seção, a lista `documents` conterá todas as informações fornecidas pelo usuário, prontas para serem processadas e analisadas pela aplicação.\n",
        "\n",
        "\n"
      ],
      "metadata": {
        "id": "myj9zqnXR5p4"
      }
    },
    {
      "cell_type": "code",
      "source": [
        "# Entrada do número de documentos\n",
        "num_docs = int(input(\"Quantos documentos você deseja inserir? \"))\n",
        "\n",
        "# Lista para armazenar os documentos\n",
        "documents = []\n",
        "\n",
        "# Loop para entrada dos documentos\n",
        "for i in range(num_docs):\n",
        "  titulo = input(f\"Título do documento {i+1}: \")\n",
        "  conteudo = input(f\"Conteúdo do documento {i+1}: \")\n",
        "  documents.append({\"Título\": titulo, \"Conteúdo\": conteudo})"
      ],
      "metadata": {
        "id": "HnTUjXeBR5us",
        "colab": {
          "base_uri": "https://localhost:8080/"
        },
        "outputId": "7433d6d4-0817-4f0f-99f3-613527a8862f"
      },
      "execution_count": 3,
      "outputs": [
        {
          "name": "stdout",
          "output_type": "stream",
          "text": [
            "Quantos documentos você deseja inserir? 3\n",
            "Título do documento 1: IA\n",
            "Conteúdo do documento 1: Atualmente, a inteligência artificial se tornou parte de nossa vida com o surgimento de tecnologias como reconhecimento facial, assistentes de voz, chatbots, automatização industrial, algoritmos em mídias sociais e aprendizado de máquinas.\n",
            "Título do documento 2: Revolução Industrial\n",
            "Conteúdo do documento 2: A Revolução Industrial foi a transição para novos processos de fabricação na Grã-Bretanha, Europa continental e Estados Unidos, no período de cerca de 1760 a algum momento entre 1820 e 1840.\n",
            "Título do documento 3: Tesla Model Y\n",
            "Conteúdo do documento 3: O Tesla Model Y, da montadora de Elon Musk, parece não cansar de bater recordes. Depois de se tornar o primeiro carro elétrico da história a ser o mais vendido no ano (em 2023), o modelo acaba de ser eleito o melhor carro elétrico de 2024 pela revista estadunidense Consumer Reports.\n"
          ]
        }
      ]
    },
    {
      "cell_type": "markdown",
      "source": [
        "## **📋 Seção 4: Criação e Formatação do DataFrame**\n",
        "Esta seção processa os dados dos documentos coletados e os organiza em um DataFrame, além de gerar os embeddings e estilizar a tabela para melhor visualização.\n",
        "\n",
        "**Passo a passo:**\n",
        "1.   **Criação do DataFrame:** A lista `documents` é utilizada para criar um DataFrame Pandas (`df`), estrutura ideal para manipulação e organização dos dados.\n",
        "2.   **Definição de colunas:** As colunas do DataFrame são renomeadas para \"Titulo\" e \"Conteudo\", representando as informações de cada documento.\n",
        "3.   **Geração de Embeddings:** A função `embed_fn` é aplicada a cada linha do DataFrame para gerar os embeddings dos documentos, que são armazenados na coluna \"Embeddings\".\n",
        "4.   **Estilizando o DataFrame:** A aparência do DataFrame é aprimorada com:\n",
        "*   Alinhamento do texto à esquerda para o conteúdo e centralizado para o cabeçalho.\n",
        "*   Ocultação dos índices numéricos das linhas.\n",
        "*   Adição de bordas para delimitar as células.\n",
        "*   Formatação dos embeddings utilizando a função `minimize_embedding` para exibição resumida.\n",
        "\n",
        "Ao final dessa seção, um DataFrame estilizado contendo os títulos, conteúdos e embeddings dos documentos é apresentado ao usuário, facilitando a visualização e compreensão dos dados."
      ],
      "metadata": {
        "id": "4XCqvgOrR5yw"
      }
    },
    {
      "cell_type": "code",
      "source": [
        "# Cria o DataFrame\n",
        "df = pd.DataFrame(documents)\n",
        "df.columns = [\"Titulo\", \"Conteudo\"]\n",
        "\n",
        "# Gera os embeddings\n",
        "df[\"Embeddings\"] = df.apply(lambda row: embed_fn(row[\"Titulo\"], row[\"Conteudo\"]), axis=1)\n",
        "\n",
        "# Estilizando o DataFrame\n",
        "df_styled = df.style.set_properties(**{'text-align': 'left'}) \\\n",
        "  .format({'Embeddings': minimize_embedding}) \\\n",
        "  .set_table_styles([{'selector': 'th', 'props': [('text-align', 'center')]}]) \\\n",
        "  .set_table_styles([{'selector': '.row_heading', 'props': [('text-align', 'center')]}]) \\\n",
        "  .hide(axis='index') \\\n",
        "  .set_table_attributes('style=\"border:1px solid black\"')\n",
        "display(df_styled)"
      ],
      "metadata": {
        "id": "WE4eK5u6R53D",
        "colab": {
          "base_uri": "https://localhost:8080/",
          "height": 195
        },
        "outputId": "724eb09b-6bb7-4eab-8968-fc85431b3617"
      },
      "execution_count": 4,
      "outputs": [
        {
          "output_type": "display_data",
          "data": {
            "text/plain": [
              "<pandas.io.formats.style.Styler at 0x79f12a411cf0>"
            ],
            "text/html": [
              "<style type=\"text/css\">\n",
              "#T_d58bf .row_heading {\n",
              "  text-align: center;\n",
              "}\n",
              "#T_d58bf_row0_col0, #T_d58bf_row0_col1, #T_d58bf_row0_col2, #T_d58bf_row1_col0, #T_d58bf_row1_col1, #T_d58bf_row1_col2, #T_d58bf_row2_col0, #T_d58bf_row2_col1, #T_d58bf_row2_col2 {\n",
              "  text-align: left;\n",
              "}\n",
              "</style>\n",
              "<table id=\"T_d58bf\" class=\"dataframe\">\n",
              "  <thead>\n",
              "    <tr>\n",
              "      <th id=\"T_d58bf_level0_col0\" class=\"col_heading level0 col0\" >Titulo</th>\n",
              "      <th id=\"T_d58bf_level0_col1\" class=\"col_heading level0 col1\" >Conteudo</th>\n",
              "      <th id=\"T_d58bf_level0_col2\" class=\"col_heading level0 col2\" >Embeddings</th>\n",
              "    </tr>\n",
              "  </thead>\n",
              "  <tbody>\n",
              "    <tr>\n",
              "      <td id=\"T_d58bf_row0_col0\" class=\"data row0 col0\" >IA</td>\n",
              "      <td id=\"T_d58bf_row0_col1\" class=\"data row0 col1\" >Atualmente, a inteligência artificial se tornou parte de nossa vida com o surgimento de tecnologias como reconhecimento facial, assistentes de voz, chatbots, automatização industrial, algoritmos em mídias sociais e aprendizado de máquinas.</td>\n",
              "      <td id=\"T_d58bf_row0_col2\" class=\"data row0 col2\" >[0.04686338, -0.042696808, -0.011461081, 0.0397845...</td>\n",
              "    </tr>\n",
              "    <tr>\n",
              "      <td id=\"T_d58bf_row1_col0\" class=\"data row1 col0\" >Revolução Industrial</td>\n",
              "      <td id=\"T_d58bf_row1_col1\" class=\"data row1 col1\" >A Revolução Industrial foi a transição para novos processos de fabricação na Grã-Bretanha, Europa continental e Estados Unidos, no período de cerca de 1760 a algum momento entre 1820 e 1840.</td>\n",
              "      <td id=\"T_d58bf_row1_col2\" class=\"data row1 col2\" >[0.035248157, -0.01936314, -0.015160961, 0.0602532...</td>\n",
              "    </tr>\n",
              "    <tr>\n",
              "      <td id=\"T_d58bf_row2_col0\" class=\"data row2 col0\" >Tesla Model Y</td>\n",
              "      <td id=\"T_d58bf_row2_col1\" class=\"data row2 col1\" >O Tesla Model Y, da montadora de Elon Musk, parece não cansar de bater recordes. Depois de se tornar o primeiro carro elétrico da história a ser o mais vendido no ano (em 2023), o modelo acaba de ser eleito o melhor carro elétrico de 2024 pela revista estadunidense Consumer Reports.</td>\n",
              "      <td id=\"T_d58bf_row2_col2\" class=\"data row2 col2\" >[-0.005353733, -0.028687537, -0.069056295, 0.02900...</td>\n",
              "    </tr>\n",
              "  </tbody>\n",
              "</table>\n"
            ]
          },
          "metadata": {}
        }
      ]
    },
    {
      "cell_type": "markdown",
      "source": [
        "## **🔍 Seção 5: Busca por Semelhança: Processando a Consulta**\n",
        "Esta seção lida com a entrada da consulta do usuário e realiza a busca pelo documento mais semelhante na base de dados.\n",
        "\n",
        "**Passo a passo:**\n",
        "1.   **Entrada da consulta:** O usuário insere a consulta em formato de texto, representando o tema ou a informação que deseja encontrar nos documentos.\n",
        "2.   **Busca por similaridade:** A função gerar_e_buscar_consulta é utilizada para:\n",
        "*   Gerar o embedding da consulta.\n",
        "*   Comparar o embedding da consulta com os embeddings de cada documento no DataFrame, utilizando o produto escalar como medida de similaridade.\n",
        "*   Identificar o documento com maior similaridade.\n",
        "3.   **Obtenção de informações:** A função retorna:\n",
        "*   O conteúdo do documento mais similar (resultado).\n",
        "*   O embedding da consulta (embedding_consulta).\n",
        "*   O índice do documento mais similar no DataFrame (indice_resultado).\n",
        "\n",
        "As informações retornadas serão utilizadas na próxima etapa para visualizar a relação entre a consulta e os documentos no espaço vetorial."
      ],
      "metadata": {
        "id": "3Q9FEyB-SNSL"
      }
    },
    {
      "cell_type": "code",
      "source": [
        "# Entrada da consulta\n",
        "consulta = input(\"Digite sua consulta: \")\n",
        "\n",
        "# Busca o documento mais semelhante e obtém informações adicionais\n",
        "resultado, embedding_consulta, indice_resultado = gerar_e_buscar_consulta(consulta, df, model)"
      ],
      "metadata": {
        "id": "7oZq3g-0SOHR",
        "colab": {
          "base_uri": "https://localhost:8080/",
          "height": 35
        },
        "outputId": "7abcb1a6-9dc0-414b-c4ac-396e7955c019"
      },
      "execution_count": 5,
      "outputs": [
        {
          "name": "stdout",
          "output_type": "stream",
          "text": [
            "Digite sua consulta: Automóvel movido a energia capaz de transportar pessoas\n"
          ]
        }
      ]
    },
    {
      "cell_type": "markdown",
      "source": [
        "## **📊 Seção 6: Visualização Interativa dos Embeddings com PCA**\n",
        "Esta seção utiliza a técnica de redução de dimensionalidade PCA para visualizar os embeddings da consulta e dos documentos em um gráfico bidimensional, permitindo uma análise visual da relação de similaridade entre eles.\n",
        "\n",
        "**Passo a passo:**\n",
        "1.   **Redução de dimensionalidade:** O algoritmo PCA é aplicado para transformar os embeddings, originalmente em um espaço de alta dimensão, em um espaço bidimensional, preservando ao máximo a variância dos dados.\n",
        "2.   **Plotagem dos embeddings:** Um gráfico de dispersão é criado, onde cada ponto representa um embedding:\n",
        "*   **Documentos:** Representados por círculos cinza.\n",
        "*   **Consulta:** Representada por uma estrela azul.\n",
        "*   **Documento mais similar:** Representado por um círculo vermelho com borda.\n",
        "3.   **Identificação dos documentos:** Os títulos dos documentos são exibidos ao lado de seus respectivos pontos no gráfico, facilitando a identificação visual.\n",
        "4.   **Elementos visuais:** A legenda, os rótulos dos eixos, a grade e o título do gráfico tornam a visualização mais clara, informativa e agradável.\n",
        "\n",
        "Essa visualização interativa permite ao usuário compreender a relação entre os embeddings, verificando a proximidade espacial entre a consulta e os documentos. Observa-se que o documento mais similar se encontra mais próximo da consulta no espaço vetorial."
      ],
      "metadata": {
        "id": "e63Vc9OkdalU"
      }
    },
    {
      "cell_type": "code",
      "source": [
        "# Aplica PCA para redução de dimensionalidade\n",
        "pca = PCA(n_components=2)\n",
        "embeddings_2d = pca.fit_transform(np.stack(df[\"Embeddings\"].apply(np.array).tolist() + [embedding_consulta]))\n",
        "\n",
        "# Plota os embeddings com nomes dos documentos\n",
        "plt.figure(figsize=(10, 6))\n",
        "plt.scatter(embeddings_2d[:-1, 0], embeddings_2d[:-1, 1], label='Outros Documentos', marker='o', s=50, c='lightgray')\n",
        "plt.scatter(embeddings_2d[-1, 0], embeddings_2d[-1, 1], label='Consulta', marker='*', s=200, c='blue')\n",
        "plt.scatter(embeddings_2d[indice_resultado, 0], embeddings_2d[indice_resultado, 1], label='Documento Mais Semelhante', marker='o', facecolors='none', edgecolors='red', s=200, linewidth=2)\n",
        "\n",
        "for i, txt in enumerate(df[\"Titulo\"]):\n",
        "    plt.annotate(txt, (embeddings_2d[i, 0], embeddings_2d[i, 1]), fontsize=8)\n",
        "\n",
        "plt.xlabel(\"Componente Principal 1\")\n",
        "plt.ylabel(\"Componente Principal 2\")\n",
        "plt.title(\"Visualização dos Embeddings (PCA)\", fontsize=14)\n",
        "plt.legend()\n",
        "plt.grid(True)\n",
        "plt.show()"
      ],
      "metadata": {
        "id": "bv2pZTdjda5g",
        "colab": {
          "base_uri": "https://localhost:8080/",
          "height": 565
        },
        "outputId": "b9ce974b-96f8-4295-99ff-aa36e6702c3f"
      },
      "execution_count": 6,
      "outputs": [
        {
          "output_type": "display_data",
          "data": {
            "text/plain": [
              "<Figure size 1000x600 with 1 Axes>"
            ],
            "image/png": "[encoded data removed]"
          },
          "metadata": {}
        }
      ]
    },
    {
      "cell_type": "markdown",
      "source": [
        "## **✅ Seção 7: Apresentação do Resultado: Documento Mais Semelhante**\n",
        "Esta seção final apresenta ao usuário o resultado da busca: o conteúdo do documento que foi identificado como mais semelhante à consulta fornecida.\n",
        "\n",
        "**Passo a passo:**\n",
        "1.   **Exibição do título:** Uma mensagem simples e clara indica que o conteúdo a seguir é o resultado da busca.\n",
        "2.   **Impressão do conteúdo:** O conteúdo completo do documento mais similar é exibido ao usuário.\n",
        "3.   **Quebra de linha:** É usado o `textwrap.fill` para facilitar a leitura do resultado final.\n",
        "\n",
        "Com isso, a aplicação conclui seu objetivo de encontrar e apresentar a informação mais relevante para o usuário, com base na análise de similaridade utilizando embeddings."
      ],
      "metadata": {
        "id": "fgnz0VrQdbBo"
      }
    },
    {
      "cell_type": "code",
      "source": [
        "# Imprime o resultado com quebra de linha\n",
        "print(\"\\nConteúdo mais semelhante:\")\n",
        "print(textwrap.fill(resultado))"
      ],
      "metadata": {
        "id": "AOyZj4A5dbNO",
        "colab": {
          "base_uri": "https://localhost:8080/"
        },
        "outputId": "580d5113-b519-4026-a429-1460715787cd"
      },
      "execution_count": 7,
      "outputs": [
        {
          "output_type": "stream",
          "name": "stdout",
          "text": [
            "\n",
            "Conteúdo mais semelhante:\n",
            "O Tesla Model Y, da montadora de Elon Musk, parece não cansar de bater\n",
            "recordes. Depois de se tornar o primeiro carro elétrico da história a\n",
            "ser o mais vendido no ano (em 2023), o modelo acaba de ser eleito o\n",
            "melhor carro elétrico de 2024 pela revista estadunidense Consumer\n",
            "Reports.\n"
          ]
        }
      ]
    }
  ]
}